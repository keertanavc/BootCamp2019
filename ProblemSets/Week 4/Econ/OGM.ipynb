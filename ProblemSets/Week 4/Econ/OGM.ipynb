{
 "cells": [
  {
   "cell_type": "markdown",
   "metadata": {},
   "source": [
    "### Keertana V. Chidambaram <br/> Econ PS3 - OGM"
   ]
  },
  {
   "cell_type": "markdown",
   "metadata": {},
   "source": [
    "#### Exercise 2.1"
   ]
  },
  {
   "cell_type": "code",
   "execution_count": 1,
   "metadata": {},
   "outputs": [],
   "source": [
    "import numpy as np\n",
    "from scipy.optimize import least_squares\n",
    "# Parameters\n",
    "beta = 0.442\n",
    "delta = 0.6415\n",
    "sigma = 3\n",
    "A = 1\n",
    "alpha = 0.35\n",
    "nvec = [1, 1, 0.2]\n",
    "f_params = [nvec, A, alpha, delta]\n",
    "SS_tol = 1e-4"
   ]
  },
  {
   "cell_type": "code",
   "execution_count": 90,
   "metadata": {},
   "outputs": [],
   "source": [
    "# Helper functions\n",
    "def get_w(alpha, A, L, K):\n",
    "    return (1 - alpha) * A * (K / L) ** alpha\n",
    "def get_r(alpha, delta, A, L, K):\n",
    "    return alpha * A * (L / K) ** (1 - alpha) - delta\n",
    "def get_K(bvec):\n",
    "    return sum(bvec)\n",
    "def get_L(nvec):\n",
    "    return sum(nvec)\n",
    "def get_Y(A, K, alpha, L):\n",
    "    return A * (K ** alpha) * (L ** (1 - alpha))\n",
    "def get_c1(nvec, w, bvec):\n",
    "    return w * nvec[0] - bvec[0]\n",
    "def get_c2(nvec, w, bvec, r):\n",
    "    return w * nvec[1] + (1 + r) * bvec[0] - bvec[1]\n",
    "def get_c3(nvec, w, bvec, r):\n",
    "    return w * nvec[2] + (1 + r) * bvec[1]\n",
    "def u(c, sigma):\n",
    "    return (c ** (1 - sigma) - 1) / (1 - sigma)\n",
    "def u_dash(c, sigma):\n",
    "    return c ** -sigma\n",
    "def get_C(cvec):\n",
    "    return sum(cvec)\n",
    "def get_euerr(cvec, beta, r, sigma):\n",
    "    return u_dash(cvec[0], sigma) - beta * (1 + r) * u_dash(cvec[1], sigma)\n",
    "def get_rcerr(Y, C, delta, Kt, Ktp1):\n",
    "    return Y - C - Ktp1 + (1 - delta) * Kt"
   ]
  },
  {
   "cell_type": "code",
   "execution_count": 3,
   "metadata": {},
   "outputs": [],
   "source": [
    "def feasible(f_params, bvec_guess):\n",
    "    nvec, A, alpha, delta = f_params\n",
    "    K = get_K(bvec_guess)\n",
    "    L = get_L(nvec)\n",
    "    K_cnstr = bool(K <= 0)\n",
    "    w = get_w(alpha, A, L, K)\n",
    "    r = get_r(alpha, delta, A, L, K)\n",
    "    c1 = get_c1(nvec, w, bvec_guess)\n",
    "    c2 = get_c2(nvec, w, bvec_guess, r)\n",
    "    c3 = get_c3(nvec, w, bvec_guess, r)\n",
    "    c_cnstr = np.array([bool(c1 <= 0), bool(c2 <= 0), bool(c3 <= 0)])\n",
    "    b_cnstr = [False, False]\n",
    "    if c_cnstr[0]:\n",
    "        b_cnstr[0] = True\n",
    "    if c_cnstr[1]:\n",
    "        b_cnstr[0] = True\n",
    "        b_cnstr[1] = True\n",
    "    if c_cnstr[2]:\n",
    "        b_cnstr[1] = True\n",
    "    return b_cnstr, c_cnstr, K_cnstr"
   ]
  },
  {
   "cell_type": "code",
   "execution_count": 4,
   "metadata": {},
   "outputs": [
    {
     "name": "stdout",
     "output_type": "stream",
     "text": [
      "b_cnstr=  [True, False]\n",
      "c_cnstr=  [ True False False]\n",
      "K_cnstr=  False\n"
     ]
    }
   ],
   "source": [
    "bvec_guess = np.array([1.0, 1.2])\n",
    "b_cnstr, c_cnstr, K_cnstr = feasible(f_params, bvec_guess)\n",
    "print('b_cnstr= ', b_cnstr)\n",
    "print('c_cnstr= ', c_cnstr)\n",
    "print('K_cnstr= ', K_cnstr)"
   ]
  },
  {
   "cell_type": "markdown",
   "metadata": {},
   "source": [
    "b2 guess is not feasible!"
   ]
  },
  {
   "cell_type": "code",
   "execution_count": 5,
   "metadata": {},
   "outputs": [
    {
     "name": "stdout",
     "output_type": "stream",
     "text": [
      "b_cnstr=  [False, False]\n",
      "c_cnstr=  [False False False]\n",
      "K_cnstr=  False\n"
     ]
    }
   ],
   "source": [
    "bvec_guess = np.array([0.06, -0.001])\n",
    "b_cnstr, c_cnstr, K_cnstr = feasible(f_params, bvec_guess)\n",
    "print('b_cnstr= ', b_cnstr)\n",
    "print('c_cnstr= ', c_cnstr)\n",
    "print('K_cnstr= ', K_cnstr)"
   ]
  },
  {
   "cell_type": "markdown",
   "metadata": {},
   "source": [
    "This guess is feasible!"
   ]
  },
  {
   "cell_type": "code",
   "execution_count": 6,
   "metadata": {},
   "outputs": [
    {
     "name": "stdout",
     "output_type": "stream",
     "text": [
      "b_cnstr=  [False, False]\n",
      "c_cnstr=  [False False False]\n",
      "K_cnstr=  False\n"
     ]
    }
   ],
   "source": [
    "bvec_guess = np.array([0.1, 0.1])\n",
    "b_cnstr, c_cnstr, K_cnstr = feasible(f_params, bvec_guess)\n",
    "print('b_cnstr= ', b_cnstr)\n",
    "print('c_cnstr= ', c_cnstr)\n",
    "print('K_cnstr= ', K_cnstr)"
   ]
  },
  {
   "cell_type": "markdown",
   "metadata": {},
   "source": [
    "This guess is feasible!"
   ]
  },
  {
   "cell_type": "markdown",
   "metadata": {},
   "source": [
    "#### Exercise 2.2"
   ]
  },
  {
   "cell_type": "code",
   "execution_count": 7,
   "metadata": {},
   "outputs": [],
   "source": [
    "import time\n",
    "from scipy.optimize import fsolve\n",
    "import matplotlib.pyplot as plt\n",
    "from scipy.optimize import least_squares"
   ]
  },
  {
   "cell_type": "code",
   "execution_count": 8,
   "metadata": {},
   "outputs": [
    {
     "name": "stdout",
     "output_type": "stream",
     "text": [
      "{'b_ss': array([0.01931253, 0.0584111 ]), 'c_ss': [0.18241212755849867, 0.20961468030898922, 0.24087386507209851], 'w_ss': 0.20172465739052575, 'r_ss': 2.433062339127069, 'K_ss': 0.07772362575316386, 'Y_ss': 0.6827603788602411, 'C_ss': 0.6329006729395864, 'EulErr_ss': [-1.3926637620897964e-12, 2.6290081223123707e-12], 'RCerr_ss': 8.326672684688674e-17, 'ss_time': 10.524100818}\n"
     ]
    },
    {
     "name": "stderr",
     "output_type": "stream",
     "text": [
      "C:\\Users\\admin\\Anaconda3\\lib\\site-packages\\ipykernel_launcher.py:20: DeprecationWarning: time.clock has been deprecated in Python 3.3 and will be removed from Python 3.8: use time.perf_counter or time.process_time instead\n",
      "C:\\Users\\admin\\Anaconda3\\lib\\site-packages\\ipykernel_launcher.py:22: DeprecationWarning: time.clock has been deprecated in Python 3.3 and will be removed from Python 3.8: use time.perf_counter or time.process_time instead\n"
     ]
    }
   ],
   "source": [
    "params = [beta, sigma, nvec, A, alpha, delta, SS_tol]\n",
    "\n",
    "def solver2(bvec_guess, params):\n",
    "    beta, sigma, nvec, A, alpha, delta, SS_tol = params\n",
    "    L = get_L(nvec)\n",
    "    K = get_K(bvec_guess)\n",
    "    w = get_w(alpha, A, L, K)\n",
    "    r = get_r(alpha, delta, A, L, K)\n",
    "    c1 = get_c1(nvec, w, bvec_guess)\n",
    "    c2 = get_c2(nvec, w, bvec_guess, r)\n",
    "    c3 = get_c3(nvec, w, bvec_guess, r)\n",
    "    eq1 = get_euerr([c1, c2], beta, r, sigma)\n",
    "    eq2 = get_euerr([c2, c3], beta, r, sigma)\n",
    "    return (eq1, eq2)\n",
    "\n",
    "def get_SS(params, bvec_guess, SS_graphs):\n",
    "    beta, sigma, nvec, A, alpha, delta, SS_tol = params\n",
    "    L = get_L(nvec)\n",
    "\n",
    "    start_time = time.clock()\n",
    "    b_ss = fsolve(solver2, bvec_guess, args=params)\n",
    "    ss_time = time.clock()\n",
    "    K_ss = get_K(b_ss)\n",
    "    w_ss = get_w(alpha, A, L, K_ss)\n",
    "    r_ss = get_r(alpha, delta, A, L, K_ss)\n",
    "\n",
    "    c1_ss = get_c1(nvec, w_ss, b_ss)\n",
    "    c2_ss = get_c2(nvec, w_ss, b_ss, r_ss)\n",
    "    c3_ss = get_c3(nvec, w_ss, b_ss, r_ss)\n",
    "    c_ss = [c1_ss, c2_ss, c3_ss]\n",
    "    C_ss = get_C(c_ss)\n",
    "\n",
    "    Y_ss = get_Y(A, K_ss, alpha, L)\n",
    "    \n",
    "    err1 = get_euerr([c1_ss, c2_ss], beta, r_ss, sigma)\n",
    "    err2 = get_euerr([c2_ss, c3_ss], beta, r_ss, sigma)\n",
    "    EulErr_ss = [err1, err2]\n",
    "    RCerr_ss = get_rcerr(Y_ss, C_ss, delta, K_ss, K_ss)\n",
    "    \n",
    "\n",
    "    ss_output = {'b_ss': b_ss, \n",
    "                 'c_ss': c_ss, \n",
    "                 'w_ss': w_ss, \n",
    "                 'r_ss': r_ss,\n",
    "                 'K_ss': K_ss, \n",
    "                 'Y_ss': Y_ss, \n",
    "                 'C_ss': C_ss,\n",
    "                 'EulErr_ss': EulErr_ss,\n",
    "                 'RCerr_ss': RCerr_ss,\n",
    "                 'ss_time': ss_time}\n",
    "\n",
    "    #if SS_graphs:\n",
    "    return ss_output\n",
    "bvec_guess = [0.1, 0.1]\n",
    "params = [beta, sigma, nvec, A, alpha, delta, SS_tol]\n",
    "ss_output = get_SS(params, bvec_guess, False)\n",
    "print(ss_output)"
   ]
  },
  {
   "cell_type": "code",
   "execution_count": 32,
   "metadata": {},
   "outputs": [
    {
     "data": {
      "text/plain": [
       "<matplotlib.collections.PathCollection at 0x16547714080>"
      ]
     },
     "execution_count": 32,
     "metadata": {},
     "output_type": "execute_result"
    },
    {
     "data": {
      "image/png": "[encoded data removed]",
      "text/plain": [
       "<Figure size 432x288 with 1 Axes>"
      ]
     },
     "metadata": {
      "needs_background": "light"
     },
     "output_type": "display_data"
    }
   ],
   "source": [
    "B = [0] + list(ss_output['b_ss'])\n",
    "C = list(ss_output['c_ss'])\n",
    "T = [1, 2, 3]\n",
    "\n",
    "plt.plot(T, B)\n",
    "plt.scatter(T, B)\n",
    "plt.plot(T, C)\n",
    "plt.scatter(T, C)         "
   ]
  },
  {
   "cell_type": "code",
   "execution_count": 33,
   "metadata": {},
   "outputs": [
    {
     "name": "stdout",
     "output_type": "stream",
     "text": [
      "{'b_ss': array([0.02817692, 0.07686545]), 'c_ss': [0.1959752770144865, 0.22861594138961466, 0.26669307193992076], 'w_ss': 0.2241521959300601, 'r_ss': 1.8863765058112805, 'K_ss': 0.10504237022008017, 'Y_ss': 0.7586689708402035, 'C_ss': 0.691284290344022, 'EulErr_ss': [1.530867166366079e-08, -2.0089586882932053e-08], 'RCerr_ss': 8.326672684688674e-17, 'ss_time': 265.25231259}\n"
     ]
    },
    {
     "name": "stderr",
     "output_type": "stream",
     "text": [
      "C:\\Users\\admin\\Anaconda3\\lib\\site-packages\\ipykernel_launcher.py:20: DeprecationWarning: time.clock has been deprecated in Python 3.3 and will be removed from Python 3.8: use time.perf_counter or time.process_time instead\n",
      "C:\\Users\\admin\\Anaconda3\\lib\\site-packages\\ipykernel_launcher.py:22: DeprecationWarning: time.clock has been deprecated in Python 3.3 and will be removed from Python 3.8: use time.perf_counter or time.process_time instead\n"
     ]
    }
   ],
   "source": [
    "beta_new = 0.55\n",
    "params = [beta_new, sigma, nvec, A, alpha, delta, SS_tol]\n",
    "ss_output2 = get_SS(params, bvec_guess, False)\n",
    "print(ss_output2)"
   ]
  },
  {
   "cell_type": "code",
   "execution_count": 34,
   "metadata": {},
   "outputs": [
    {
     "name": "stdout",
     "output_type": "stream",
     "text": [
      "{'b_ss': array([0.01931253, 0.0584111 ]), 'c_ss': [0.18241212755849867, 0.20961468030898922, 0.24087386507209851], 'w_ss': 0.20172465739052575, 'r_ss': 2.433062339127069, 'K_ss': 0.07772362575316386, 'Y_ss': 0.6827603788602411, 'C_ss': 0.6329006729395864, 'EulErr_ss': [-1.3926637620897964e-12, 2.6290081223123707e-12], 'RCerr_ss': 8.326672684688674e-17, 'ss_time': 10.524100818}\n"
     ]
    }
   ],
   "source": [
    "print(ss_output)"
   ]
  },
  {
   "cell_type": "markdown",
   "metadata": {},
   "source": [
    "Savings decrease, consumption increases, wage increases, interest rate increases."
   ]
  },
  {
   "cell_type": "markdown",
   "metadata": {},
   "source": [
    "#### Exercise 2.3"
   ]
  },
  {
   "cell_type": "code",
   "execution_count": 92,
   "metadata": {},
   "outputs": [
    {
     "data": {
      "text/plain": [
       "[<matplotlib.lines.Line2D at 0x16548c35320>]"
      ]
     },
     "execution_count": 92,
     "metadata": {},
     "output_type": "execute_result"
    },
    {
     "data": {
      "image/png": "[encoded data removed]",
      "text/plain": [
       "<Figure size 432x288 with 1 Axes>"
      ]
     },
     "metadata": {
      "needs_background": "light"
     },
     "output_type": "display_data"
    }
   ],
   "source": [
    "b_ss = ss_output['b_ss']\n",
    "bvec_guess = [0.8 * b_ss[0], 1.1 * b_ss[1]]\n",
    "b2_init = b_ss[0]\n",
    "xi = 0.5\n",
    "T = 45\n",
    "eps = 1e-9\n",
    "L = get_L(nvec)\n",
    "Kvec = list(np.linspace(get_K(bvec_guess), get_K(b_ss), T))\n",
    "b2vec = list(np.linspace(bvec_guess[0], b_ss[0], T)) + [b_ss[0]] * 10\n",
    "b3vec = list(np.linspace(bvec_guess[1], b_ss[1], T)) + [b_ss[1]] * 10\n",
    "#bvec = np.array([np.array(b2vec), np.array(b3vec)])\n",
    "Kvec = np.array(Kvec + [sum(b_ss)] * 10)\n",
    "rvec = np.array([get_r(alpha, delta, A, L, Ki) for Ki in Kvec])\n",
    "wvec = np.array([get_w(alpha, A, L, Ki) for Ki in Kvec])\n",
    "plt.plot(Kvec)"
   ]
  },
  {
   "cell_type": "code",
   "execution_count": 93,
   "metadata": {},
   "outputs": [
    {
     "name": "stdout",
     "output_type": "stream",
     "text": [
      "0\n",
      "1\n",
      "2\n",
      "3\n",
      "4\n",
      "5\n",
      "6\n",
      "7\n",
      "8\n",
      "9\n",
      "10\n",
      "11\n"
     ]
    }
   ],
   "source": [
    "def solver3(bvec_guess, params2):\n",
    "    wvec, rvec, nvec, t, beta, sigma = params2\n",
    "    rt, rtp1 = rvec[t], rvec[t+1]\n",
    "    wt, wtp1, wtp2 = wvec[t], wvec[t+1], wvec[t+2]\n",
    "    c1 = get_c1(nvec, wt, bvec_guess)\n",
    "    c2 = get_c2(nvec, wtp1, bvec_guess, rt)\n",
    "    c3 = get_c3(nvec, wtp2, bvec_guess, rtp1)\n",
    "    cvec = [c1, c2, c3]\n",
    "    C = get_C(cvec)\n",
    "    eq1 = get_euerr([c1, c2], beta, rt, sigma)\n",
    "    eq2 = get_euerr([c2, c3], beta, rtp1, sigma)\n",
    "    eq3 = get_K(bvec_guess) + 0.001\n",
    "    return (eq1, eq2)\n",
    "\n",
    "i = 0\n",
    "errvec = []\n",
    "while 1:\n",
    "    print(i)\n",
    "    i += 1\n",
    "    b2vec_new = np.zeros(len(Kvec))\n",
    "    b3vec_new = np.zeros(len(Kvec))\n",
    "    b2vec_new[0] = b2vec[0]\n",
    "    b3vec_new[0] = b3vec[0]\n",
    "    b3vec_new[1] = b3vec[1]\n",
    "    euler_err = []\n",
    "    for t in range(T - 2 + 10):\n",
    "        bvec_guess = (b2vec[t+1], b3vec[t+2])\n",
    "        params2 = [[wvec, rvec, nvec, t, beta, sigma]]\n",
    "        res = least_squares(fun=solver3, x0=bvec_guess, bounds=((0.01, 0.01), (10, 10)), args=params2)\n",
    "        b2vec_new[t + 1], b3vec_new[t + 2] = res.x\n",
    "        euler_err.append(max(abs(res.fun)))\n",
    "    b2vec_new[T+10-1] = Kvec[T-1] - b3vec_new[T-1]\n",
    "    Kvec_new = b2vec_new + b3vec_new\n",
    "    err = sum((np.array(Kvec_new) - np.array(Kvec)) ** 2)\n",
    "    Kvec = Kvec_new.copy()\n",
    "    b2vec = b2vec_new.copy()\n",
    "    b3vec = b3vec_new.copy()\n",
    "    rvec = np.array([get_r(alpha, delta, A, L, Ki) for Ki in Kvec])\n",
    "    wvec = np.array([get_w(alpha, A, L, Ki) for Ki in Kvec])\n",
    "\n",
    "    errvec.append(abs(err))\n",
    "    if err < eps:\n",
    "        break"
   ]
  },
  {
   "cell_type": "code",
   "execution_count": 97,
   "metadata": {},
   "outputs": [],
   "source": [
    "Kt = Kvec[:len(Kvec)-1]\n",
    "Ktp1 = Kvec[1:]\n",
    "L = get_L(nvec)\n",
    "Yt = [get_Y(A, Ki, alpha, L) for Ki in Kt]\n",
    "c1t = np.array([get_c1(nvec, wvec[i], bvec[:, i]) for i in range(bvec.shape[1])])\n",
    "c2t = np.array([get_c2(nvec, wvec[i], bvec[:, i], rvec[i]) for i in range(bvec.shape[1])])\n",
    "c3t = np.array([get_c3(nvec, wvec[i], bvec[:, i], rvec[i]) for i in range(bvec.shape[1])])\n",
    "Ct = c1t + c2t + c3t\n",
    "Ct = Ct[:len(Ct)-1]\n",
    "const_err = [abs(get_rcerr(Yt[i], Ct[i], delta, Kt[i], Ktp1[i])) for i in range(len(Yt))]"
   ]
  },
  {
   "cell_type": "code",
   "execution_count": 99,
   "metadata": {},
   "outputs": [
    {
     "name": "stdout",
     "output_type": "stream",
     "text": [
      "maximum of the absolute values of all the Euler errors across the entire time path =  9.947598300641403e-13\n",
      "maximum of the absolute value of all the aggregate resource constraint errors =  0.0034734459944796535\n"
     ]
    }
   ],
   "source": [
    "print(\"maximum of the absolute values of all the Euler errors across the entire time path = \", max(euler_err))\n",
    "print(\"maximum of the absolute value of all the aggregate resource constraint errors = \", max(const_err))"
   ]
  },
  {
   "cell_type": "code",
   "execution_count": 113,
   "metadata": {},
   "outputs": [
    {
     "data": {
      "image/png": "[encoded data removed]",
      "text/plain": [
       "<Figure size 432x288 with 1 Axes>"
      ]
     },
     "metadata": {
      "needs_background": "light"
     },
     "output_type": "display_data"
    }
   ],
   "source": [
    "plt.title(\"Time path of Capital\")\n",
    "plt.plot(Kvec, label=\"Kvec\")\n",
    "plt.xlabel(\"T\")\n",
    "plt.legend()\n",
    "plt.show()"
   ]
  },
  {
   "cell_type": "code",
   "execution_count": 110,
   "metadata": {},
   "outputs": [
    {
     "data": {
      "image/png": "[encoded data removed]",
      "text/plain": [
       "<Figure size 432x288 with 1 Axes>"
      ]
     },
     "metadata": {
      "needs_background": "light"
     },
     "output_type": "display_data"
    }
   ],
   "source": [
    "plt.title(\"Time path of Wage\")\n",
    "plt.plot(wvec, label=\"wvec\")\n",
    "plt.xlabel(\"T\")\n",
    "plt.legend()\n",
    "plt.show()"
   ]
  },
  {
   "cell_type": "code",
   "execution_count": 112,
   "metadata": {},
   "outputs": [
    {
     "data": {
      "image/png": "[encoded data removed]",
      "text/plain": [
       "<Figure size 432x288 with 1 Axes>"
      ]
     },
     "metadata": {
      "needs_background": "light"
     },
     "output_type": "display_data"
    }
   ],
   "source": [
    "plt.title(\"Time path of Interest\")\n",
    "plt.plot(rvec, label=\"rvec\")\n",
    "plt.xlabel(\"T\")\n",
    "plt.legend()\n",
    "plt.show()"
   ]
  },
  {
   "cell_type": "code",
   "execution_count": 117,
   "metadata": {},
   "outputs": [
    {
     "data": {
      "text/plain": [
       "array([False, False, False, False, False, False, False, False, False,\n",
       "       False, False, False,  True,  True,  True,  True,  True,  True,\n",
       "        True,  True,  True,  True,  True,  True,  True,  True,  True,\n",
       "        True,  True,  True,  True,  True,  True,  True,  True,  True,\n",
       "        True,  True,  True,  True,  True,  True,  True,  True,  True,\n",
       "        True,  True,  True,  True,  True,  True,  True,  True,  True,\n",
       "        True])"
      ]
     },
     "execution_count": 117,
     "metadata": {},
     "output_type": "execute_result"
    }
   ],
   "source": [
    "(Kvec - Kvec[-1]) < 1e-5"
   ]
  },
  {
   "cell_type": "markdown",
   "metadata": {},
   "source": [
    "It takes 12 periods for the economy to get within 0.00001 of the steady-state aggregate capital stock."
   ]
  },
  {
   "cell_type": "markdown",
   "metadata": {},
   "source": [
    "#### Exercise 3.2"
   ]
  },
  {
   "cell_type": "code",
   "execution_count": null,
   "metadata": {},
   "outputs": [],
   "source": []
  },
  {
   "cell_type": "code",
   "execution_count": null,
   "metadata": {},
   "outputs": [],
   "source": []
  },
  {
   "cell_type": "code",
   "execution_count": null,
   "metadata": {},
   "outputs": [],
   "source": []
  },
  {
   "cell_type": "code",
   "execution_count": null,
   "metadata": {},
   "outputs": [],
   "source": []
  },
  {
   "cell_type": "code",
   "execution_count": null,
   "metadata": {},
   "outputs": [],
   "source": []
  }
 ],
 "metadata": {
  "kernelspec": {
   "display_name": "Python 3",
   "language": "python",
   "name": "python3"
  },
  "language_info": {
   "codemirror_mode": {
    "name": "ipython",
    "version": 3
   },
   "file_extension": ".py",
   "mimetype": "text/x-python",
   "name": "python",
   "nbconvert_exporter": "python",
   "pygments_lexer": "ipython3",
   "version": "3.7.1"
  }
 },
 "nbformat": 4,
 "nbformat_minor": 2
}
