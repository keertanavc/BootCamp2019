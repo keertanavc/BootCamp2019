{
 "cells": [
  {
   "cell_type": "markdown",
   "metadata": {},
   "source": [
    "### Keertana V. Chidambaram <br/> PS1 - Dynamic Programming <br/> Felix Kubler"
   ]
  },
  {
   "cell_type": "code",
   "execution_count": 74,
   "metadata": {},
   "outputs": [],
   "source": [
    "# Implimenting the tic-tac-toe game with a tree. Value function iteration is done using recursive functions.\n",
    "\n",
    "def check_win(board):\n",
    "    col_sums = np.sum(board, axis=0)\n",
    "    row_sums = np.sum(board, axis=1)\n",
    "    diag_sums = np.array([board.trace(), np.rot90(board).trace()])\n",
    "    return sum(col_sums == 3) or sum(row_sums == 3) or sum(diag_sums == 3)\n",
    "\n",
    "class Tree:\n",
    "    def __init__(self, board, n):\n",
    "        self.board = board\n",
    "        self.n = n\n",
    "        self.player = n % 2 + 1 \n",
    "        self.children = self.create_children()\n",
    "        self.value = self.update_value()\n",
    "    \n",
    "    def create_children(self):\n",
    "        if self.game_end():\n",
    "            children = []\n",
    "        else:\n",
    "            children = [Tree(i, self.n + 1) for i in self.next_board()]\n",
    "        return children\n",
    "        \n",
    "    def next_board(self):\n",
    "        new_boards = []\n",
    "        for i in range(len(self.board)):\n",
    "            if self.board[i] == 0:\n",
    "                new = self.board.copy()\n",
    "                new[i] = self.player\n",
    "                new_boards.append(new)\n",
    "        return new_boards\n",
    "\n",
    "    def game_end(self):\n",
    "        if check_win((np.array(self.board) == 1).reshape(3,3)):\n",
    "            self.value = 1\n",
    "            return True\n",
    "        elif check_win((np.array(self.board) == 2).reshape(3,3)):\n",
    "            self.value = -1\n",
    "            return True\n",
    "        elif sum(np.array(self.board) == 0) == 0:\n",
    "            self.value = 0\n",
    "            return True\n",
    "        return False\n",
    "    \n",
    "    def update_value(self):\n",
    "        if not self.children:\n",
    "            return self.value\n",
    "        if self.player == 1:\n",
    "            return max([child.value for child in self.children])\n",
    "        else:\n",
    "            return min([child.value for child in self.children])"
   ]
  },
  {
   "cell_type": "code",
   "execution_count": 107,
   "metadata": {},
   "outputs": [],
   "source": [
    "optimal_tree = Tree([0]*9, 1)\n",
    "# Each node in the tree represents a state of the board. Value attribute represents the value function for the board state. \n",
    "# The optimal next move is chosen by choosing the tree's child with the maximum or minimum value function (as per the player).\n",
    "# When the tree has no more children, the game is won by a player or tied.\n",
    "# I checked the correctness of the value function but didn't find enough time to make an interactive interface for the game."
   ]
  }
 ],
 "metadata": {
  "kernelspec": {
   "display_name": "Python 3",
   "language": "python",
   "name": "python3"
  },
  "language_info": {
   "codemirror_mode": {
    "name": "ipython",
    "version": 3
   },
   "file_extension": ".py",
   "mimetype": "text/x-python",
   "name": "python",
   "nbconvert_exporter": "python",
   "pygments_lexer": "ipython3",
   "version": "3.7.1"
  }
 },
 "nbformat": 4,
 "nbformat_minor": 2
}
