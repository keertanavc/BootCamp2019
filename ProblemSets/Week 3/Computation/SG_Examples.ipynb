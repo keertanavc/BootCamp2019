{
 "cells": [
  {
   "cell_type": "code",
   "execution_count": 16,
   "metadata": {
    "collapsed": true
   },
   "outputs": [],
   "source": [
    "import math\n",
    "import numpy as np\n",
    "import TasmanianSG\n",
    "import numpy as np\n",
    "import math\n",
    "from random import uniform\n",
    "from datetime import datetime"
   ]
  },
  {
   "cell_type": "code",
   "execution_count": 17,
   "metadata": {
    "collapsed": true
   },
   "outputs": [],
   "source": [
    "def oscillatory(xvec, w, cvec):\n",
    "    s = math.pi * 2 * w\n",
    "    d = len(xvec)\n",
    "    for i in range(d):\n",
    "        s += cvec[i] * xvec[i]\n",
    "    return math.cos(s)\n",
    "\n",
    "def product_peak(xvec, wvec, cvec):\n",
    "    p = 1\n",
    "    d = len(xvec)\n",
    "    for i in range(d):\n",
    "        p *= (cvec[i] ** -2 + (xvec[i] - wvec[i]) ** 2) ** -1\n",
    "    return p\n",
    "\n",
    "def corner_peak(xvec, cvec):\n",
    "    s = 1\n",
    "    d = len(xvec)\n",
    "    for i in range(d):\n",
    "        s += cvec[i] * xvec[i]\n",
    "    return s ** -(d + 1)\n",
    "\n",
    "def gaussian(xvec, wvec, cvec, t):\n",
    "    s = 0\n",
    "    d = len(xvec)\n",
    "    for i in range(d):\n",
    "        s += (cvec[i] ** 2) * t * (xvec[i] - wvec[i]) ** 2\n",
    "    return math.exp(-s)\n",
    "\n",
    "def continuous(xvec, wvec, cvec):\n",
    "    s = 0\n",
    "    d = len(xvec)\n",
    "    for i in range(d):\n",
    "        s += cvec[i] * abs(xvec[i] - wvec[i])\n",
    "    return math.exp(-s)\n",
    "\n",
    "def discontinous(xvec, wvec, cvec):\n",
    "    s = 0\n",
    "    d = len(xvec)\n",
    "    for i in range(d):\n",
    "        if i in [0, 1]:\n",
    "            if xvec[i] > wvec[i]:\n",
    "                return 0\n",
    "        s += cvec[i] * xvec[i]\n",
    "    return math.exp(s)"
   ]
  },
  {
   "cell_type": "code",
   "execution_count": 18,
   "metadata": {
    "collapsed": true
   },
   "outputs": [],
   "source": [
    "def fun(f, iDepth=5, method=\"normal\" ,fTol = 1.E-5, refinement_level=5):\n",
    "    grid  = TasmanianSG.TasmanianSparseGrid()\n",
    "    grid2 = TasmanianSG.TasmanianSparseGrid()\n",
    "    \n",
    "    # params\n",
    "    iDim = 1\n",
    "    iOut = 1\n",
    "    which_basis = 1\n",
    "\n",
    "    # xvec = aPnts\n",
    "    aPnts = np.empty([1000, ])  \n",
    "    for iI in range(1000):\n",
    "        aPnts[iI] = uniform(-1.0, 1.0)\n",
    "\n",
    "    # Result\n",
    "    aTres = np.empty([1000,])\n",
    "    for iI in range(1000):\n",
    "        aTres[iI] = f(aPnts[iI])\n",
    "\n",
    "    # construct sparse grid\n",
    "    grid.makeLocalPolynomialGrid(iDim, iOut, iDepth, which_basis, \"localp\")\n",
    "    aPoints = grid.getPoints()\n",
    "    iNumP1 = aPoints.shape[0]\n",
    "    aVals = np.empty([aPoints.shape[0], 1])\n",
    "    for iI in range(aPoints.shape[0]):\n",
    "        aVals[iI] = f(aPoints[iI])\n",
    "    grid.loadNeededPoints(aVals)\n",
    "\n",
    "\n",
    "    if method == \"normal\":\n",
    "        aRes = grid.evaluateBatch(aPnts)\n",
    "    elif method == \"adaptive\":\n",
    "        fError = []\n",
    "        numpts = []\n",
    "        for iK in range(refinement_level):\n",
    "            grid.setSurplusRefinement(fTol, 1, \"fds\")   #also use fds, or other rules\n",
    "            aPoints = grid.getNeededPoints()\n",
    "            aVals = np.empty([aPoints.shape[0], 1])\n",
    "            for iI in range(aPoints.shape[0]):\n",
    "                aVals[iI] = f(aPoints[iI])\n",
    "            grid.loadNeededPoints(aVals)\n",
    "            aRes = grid.evaluateBatch(aPnts)\n",
    "            fError.append(max(np.fabs(aRes[:,0] - aTres)))\n",
    "            numpts.append(grid.getNumPoints())\n",
    "        plt.plot(fError, numpts)"
   ]
  },
  {
   "cell_type": "code",
   "execution_count": null,
   "metadata": {
    "collapsed": true
   },
   "outputs": [],
   "source": []
  }
 ],
 "metadata": {
  "kernelspec": {
   "display_name": "Python 3",
   "language": "python",
   "name": "python3"
  },
  "language_info": {
   "codemirror_mode": {
    "name": "ipython",
    "version": 3
   },
   "file_extension": ".py",
   "mimetype": "text/x-python",
   "name": "python",
   "nbconvert_exporter": "python",
   "pygments_lexer": "ipython3",
   "version": "3.7.1"
  }
 },
 "nbformat": 4,
 "nbformat_minor": 2
}
