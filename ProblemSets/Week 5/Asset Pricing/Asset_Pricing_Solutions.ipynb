{
 "cells": [
  {
   "cell_type": "code",
   "execution_count": 1,
   "metadata": {},
   "outputs": [],
   "source": [
    "import pandas as pd\n",
    "from scipy.optimize import broyden1\n",
    "import math\n",
    "import scipy.optimize as opt\n",
    "import numpy as np\n",
    "import matplotlib.pyplot as plt\n",
    "from sklearn import linear_model"
   ]
  },
  {
   "cell_type": "code",
   "execution_count": 2,
   "metadata": {},
   "outputs": [],
   "source": [
    "# Define helper functions\n",
    "def u(c, gamma):\n",
    "    return c ** (1 - gamma) / (1 - gamma)\n",
    "def u_dash(c, gamma):\n",
    "    return c ** (-gamma)\n",
    "def mtp1(ctp1, ct, beta, gamma):\n",
    "    return beta * u_dash(ctp1, gamma) / u_dash(ct, gamma)"
   ]
  },
  {
   "cell_type": "code",
   "execution_count": 3,
   "metadata": {},
   "outputs": [],
   "source": [
    "# Load files\n",
    "# Quarterly measure of inflation\n",
    "gdp_def = pd.read_csv(\"GDPDEF.csv\", index_col='DATE')\n",
    "gdp_def.index = pd.to_datetime(gdp_def.index)\n",
    "# Quarterly personal consumption expenditure\n",
    "pers_cons = pd.read_csv(\"PCECC96.csv\", index_col='DATE') \n",
    "pers_cons.index = pd.to_datetime(pers_cons.index)\n",
    "# Montly risk free rate\n",
    "riskf_rate = pd.read_csv(\"TB3MS.csv\", index_col='DATE') \n",
    "riskf_rate.index = pd.to_datetime(riskf_rate.index)\n",
    "# Returns to the aggregate U.S. stock market ##to quarterly ##account for inflation\n",
    "returns = pd.read_csv(\"WILL5000INDFC.csv\", na_values='.', index_col='DATE')  \n",
    "returns.dropna(inplace=True)\n",
    "returns.index = pd.to_datetime(returns.index)"
   ]
  },
  {
   "cell_type": "markdown",
   "metadata": {},
   "source": [
    "Note that you will need to transform the Wilshire 5000 series and the T-Bill series into quarterly data as well as calculate the real returns to the Wilshire 5000 by accounting for inflation"
   ]
  },
  {
   "cell_type": "code",
   "execution_count": 4,
   "metadata": {},
   "outputs": [
    {
     "data": {
      "text/html": [
       "<div>\n",
       "<style scoped>\n",
       "    .dataframe tbody tr th:only-of-type {\n",
       "        vertical-align: middle;\n",
       "    }\n",
       "\n",
       "    .dataframe tbody tr th {\n",
       "        vertical-align: top;\n",
       "    }\n",
       "\n",
       "    .dataframe thead th {\n",
       "        text-align: right;\n",
       "    }\n",
       "</style>\n",
       "<table border=\"1\" class=\"dataframe\">\n",
       "  <thead>\n",
       "    <tr style=\"text-align: right;\">\n",
       "      <th></th>\n",
       "      <th>TB3MS</th>\n",
       "    </tr>\n",
       "  </thead>\n",
       "  <tbody>\n",
       "    <tr>\n",
       "      <th>1934-01-01</th>\n",
       "      <td>0.720000</td>\n",
       "    </tr>\n",
       "    <tr>\n",
       "      <th>1934-04-01</th>\n",
       "      <td>0.336667</td>\n",
       "    </tr>\n",
       "    <tr>\n",
       "      <th>1934-07-01</th>\n",
       "      <td>0.153333</td>\n",
       "    </tr>\n",
       "    <tr>\n",
       "      <th>1934-10-01</th>\n",
       "      <td>0.223333</td>\n",
       "    </tr>\n",
       "    <tr>\n",
       "      <th>1935-01-01</th>\n",
       "      <td>0.226667</td>\n",
       "    </tr>\n",
       "  </tbody>\n",
       "</table>\n",
       "</div>"
      ],
      "text/plain": [
       "               TB3MS\n",
       "1934-01-01  0.720000\n",
       "1934-04-01  0.336667\n",
       "1934-07-01  0.153333\n",
       "1934-10-01  0.223333\n",
       "1935-01-01  0.226667"
      ]
     },
     "execution_count": 4,
     "metadata": {},
     "output_type": "execute_result"
    }
   ],
   "source": [
    "# Converting risk free data to quarterly data\n",
    "riskf_rate_q = riskf_rate.resample('Q-JAN', convention='end').agg('mean')\n",
    "riskf_rate_q.index = riskf_rate_q.index.values.astype('datetime64[M]')\n",
    "riskf_rate_q.head()"
   ]
  },
  {
   "cell_type": "code",
   "execution_count": 5,
   "metadata": {},
   "outputs": [
    {
     "data": {
      "text/html": [
       "<div>\n",
       "<style scoped>\n",
       "    .dataframe tbody tr th:only-of-type {\n",
       "        vertical-align: middle;\n",
       "    }\n",
       "\n",
       "    .dataframe tbody tr th {\n",
       "        vertical-align: top;\n",
       "    }\n",
       "\n",
       "    .dataframe thead th {\n",
       "        text-align: right;\n",
       "    }\n",
       "</style>\n",
       "<table border=\"1\" class=\"dataframe\">\n",
       "  <thead>\n",
       "    <tr style=\"text-align: right;\">\n",
       "      <th></th>\n",
       "      <th>WILL5000INDFC</th>\n",
       "    </tr>\n",
       "  </thead>\n",
       "  <tbody>\n",
       "    <tr>\n",
       "      <th>1980-10-01</th>\n",
       "      <td>2.388000</td>\n",
       "    </tr>\n",
       "    <tr>\n",
       "      <th>1981-01-01</th>\n",
       "      <td>2.504426</td>\n",
       "    </tr>\n",
       "    <tr>\n",
       "      <th>1981-04-01</th>\n",
       "      <td>2.499677</td>\n",
       "    </tr>\n",
       "    <tr>\n",
       "      <th>1981-07-01</th>\n",
       "      <td>2.561250</td>\n",
       "    </tr>\n",
       "    <tr>\n",
       "      <th>1981-10-01</th>\n",
       "      <td>2.407188</td>\n",
       "    </tr>\n",
       "  </tbody>\n",
       "</table>\n",
       "</div>"
      ],
      "text/plain": [
       "            WILL5000INDFC\n",
       "1980-10-01       2.388000\n",
       "1981-01-01       2.504426\n",
       "1981-04-01       2.499677\n",
       "1981-07-01       2.561250\n",
       "1981-10-01       2.407188"
      ]
     },
     "execution_count": 5,
     "metadata": {},
     "output_type": "execute_result"
    }
   ],
   "source": [
    "returns_q = returns.resample('Q-JAN', convention='end').agg('mean')\n",
    "returns_q.index = returns_q.index.values.astype('datetime64[M]')\n",
    "returns_q.head()"
   ]
  },
  {
   "cell_type": "code",
   "execution_count": 6,
   "metadata": {},
   "outputs": [
    {
     "data": {
      "text/html": [
       "<div>\n",
       "<style scoped>\n",
       "    .dataframe tbody tr th:only-of-type {\n",
       "        vertical-align: middle;\n",
       "    }\n",
       "\n",
       "    .dataframe tbody tr th {\n",
       "        vertical-align: top;\n",
       "    }\n",
       "\n",
       "    .dataframe thead th {\n",
       "        text-align: right;\n",
       "    }\n",
       "</style>\n",
       "<table border=\"1\" class=\"dataframe\">\n",
       "  <thead>\n",
       "    <tr style=\"text-align: right;\">\n",
       "      <th></th>\n",
       "      <th>GDPDEF</th>\n",
       "      <th>PCECC96</th>\n",
       "      <th>TB3MS</th>\n",
       "      <th>WILL5000INDFC</th>\n",
       "    </tr>\n",
       "  </thead>\n",
       "  <tbody>\n",
       "    <tr>\n",
       "      <th>1980-10-01</th>\n",
       "      <td>43.818</td>\n",
       "      <td>4284.494</td>\n",
       "      <td>10.340000</td>\n",
       "      <td>2.388000</td>\n",
       "    </tr>\n",
       "    <tr>\n",
       "      <th>1981-01-01</th>\n",
       "      <td>44.972</td>\n",
       "      <td>4298.847</td>\n",
       "      <td>14.746667</td>\n",
       "      <td>2.504426</td>\n",
       "    </tr>\n",
       "    <tr>\n",
       "      <th>1981-04-01</th>\n",
       "      <td>45.863</td>\n",
       "      <td>4299.160</td>\n",
       "      <td>13.946667</td>\n",
       "      <td>2.499677</td>\n",
       "    </tr>\n",
       "    <tr>\n",
       "      <th>1981-07-01</th>\n",
       "      <td>46.726</td>\n",
       "      <td>4319.047</td>\n",
       "      <td>15.326667</td>\n",
       "      <td>2.561250</td>\n",
       "    </tr>\n",
       "    <tr>\n",
       "      <th>1981-10-01</th>\n",
       "      <td>47.534</td>\n",
       "      <td>4289.504</td>\n",
       "      <td>14.583333</td>\n",
       "      <td>2.407188</td>\n",
       "    </tr>\n",
       "  </tbody>\n",
       "</table>\n",
       "</div>"
      ],
      "text/plain": [
       "            GDPDEF   PCECC96      TB3MS  WILL5000INDFC\n",
       "1980-10-01  43.818  4284.494  10.340000       2.388000\n",
       "1981-01-01  44.972  4298.847  14.746667       2.504426\n",
       "1981-04-01  45.863  4299.160  13.946667       2.499677\n",
       "1981-07-01  46.726  4319.047  15.326667       2.561250\n",
       "1981-10-01  47.534  4289.504  14.583333       2.407188"
      ]
     },
     "execution_count": 6,
     "metadata": {},
     "output_type": "execute_result"
    }
   ],
   "source": [
    "data = pd.merge(gdp_def, pers_cons, left_index=True, right_index=True, how='inner')\n",
    "data = pd.merge(data, riskf_rate_q, left_index=True, right_index=True, how='inner')\n",
    "data = pd.merge(data, returns_q, left_index=True, right_index=True, how='inner')\n",
    "data.head()"
   ]
  },
  {
   "cell_type": "code",
   "execution_count": 7,
   "metadata": {},
   "outputs": [],
   "source": [
    "c = data['PCECC96']\n",
    "inflation = (data['GDPDEF'] - data['GDPDEF'].shift(1)) / data['GDPDEF']\n",
    "per_del_returns = (data['WILL5000INDFC'] - data['WILL5000INDFC'].shift(1)) / data['WILL5000INDFC']\n",
    "R = 1 + per_del_returns - inflation\n",
    "rf = data['TB3MS'] / 400 - inflation"
   ]
  },
  {
   "cell_type": "code",
   "execution_count": 8,
   "metadata": {},
   "outputs": [
    {
     "name": "stdout",
     "output_type": "stream",
     "text": [
      "value of gamma is:  0.9826977053538782\n"
     ]
    }
   ],
   "source": [
    "# Problem 2.1\n",
    "beta = 0.99\n",
    "def solver(gamma):\n",
    "    mtp1_arr = [mtp1(c[t+1], c[t], beta, gamma) for t in range(len(c)-1)]\n",
    "    E_mtp1 = np.mean(mtp1_arr)\n",
    "    E_Rtp1 = np.mean(R[1:])\n",
    "    cov_mtp1_Rtp1 = np.cov(mtp1_arr, R[1:])[0][1]\n",
    "    eq = cov_mtp1_Rtp1 + E_mtp1 * E_Rtp1 - 1\n",
    "    return eq\n",
    "\n",
    "gamma1 = broyden1(solver, 0.1)\n",
    "print('value of gamma is: ', gamma1)"
   ]
  },
  {
   "cell_type": "code",
   "execution_count": 9,
   "metadata": {},
   "outputs": [],
   "source": [
    "# Problem 2.2"
   ]
  },
  {
   "cell_type": "code",
   "execution_count": 10,
   "metadata": {},
   "outputs": [
    {
     "name": "stdout",
     "output_type": "stream",
     "text": [
      "value of gamma is:  -0.7909960221370886\n"
     ]
    }
   ],
   "source": [
    "# Problem 2.3\n",
    "def solver2(gamma):\n",
    "    mtp1_arr = [mtp1(c[t+1], c[t], beta, gamma) for t in range(len(c)-1)]\n",
    "    E_mtp1 = np.mean(mtp1_arr)\n",
    "    eq = 1 + np.mean(rf) - 1 / E_mtp1\n",
    "    return eq\n",
    "gamma2 = broyden1(solver2, 0.1)\n",
    "print('value of gamma is: ', gamma2)"
   ]
  },
  {
   "cell_type": "code",
   "execution_count": 11,
   "metadata": {},
   "outputs": [],
   "source": [
    "# Problem 2.4\n",
    "def data_moments(data):\n",
    "    R, rf = data\n",
    "    E_mtp1 = 1 / (1 + np.mean(rf))\n",
    "    E_Rtp1 = np.mean(R[1:])\n",
    "    return (E_mtp1, E_Rtp1)\n",
    "\n",
    "def model_moments(params, data):\n",
    "    beta, gamma = params\n",
    "    c, R = data\n",
    "    mtp1_arr = [mtp1(c[t+1], c[t], beta, gamma) for t in range(len(c)-1)]\n",
    "    E_mtp1 = np.mean(mtp1_arr)\n",
    "    cov_mtp1_Rtp1 = np.cov(mtp1_arr, R[1:])[0][1]\n",
    "    E_Rtp1 = (1 - cov_mtp1_Rtp1) / E_mtp1\n",
    "    return (E_mtp1, E_Rtp1)\n",
    "\n",
    "def err_vec(c, R, rf, beta, gamma):\n",
    "    data1 = (R, rf)\n",
    "    data_moms = np.array(data_moments(data1))\n",
    "    params = (beta, gamma)\n",
    "    data2 = (c, R)\n",
    "    model_moms = np.array(model_moments(params, data2))\n",
    "    err_vec = (model_moms - data_moms) / data_moms\n",
    "    return err_vec\n",
    "\n",
    "def criterion(params, *args):\n",
    "    beta, gamma = params\n",
    "    c, R, rf, W = args\n",
    "    err = err_vec(c, R, rf, beta, gamma)\n",
    "    crit_val = float(err.reshape(1, len(err)) @ np.eye(2) @ err.reshape(len(err),1))\n",
    "    return crit_val"
   ]
  },
  {
   "cell_type": "code",
   "execution_count": 12,
   "metadata": {},
   "outputs": [
    {
     "data": {
      "text/plain": [
       "array([0.99999   , 1.47138504])"
      ]
     },
     "execution_count": 12,
     "metadata": {},
     "output_type": "execute_result"
    }
   ],
   "source": [
    "beta_init, gamma_init = 0.9, 0.9\n",
    "w_hat = np.eye(2)\n",
    "params_init = (beta_init, gamma_init)\n",
    "gmm_args = (c, R, rf, w_hat)\n",
    "results = opt.minimize(criterion,\n",
    "                       params_init, \n",
    "                       args=(gmm_args),\n",
    "                       tol=1e-14, \n",
    "                       method='L-BFGS-B', \n",
    "                       bounds=((1e-5, 1-1e-5), (1e-5, None)))\n",
    "gmm_beta, gmm_gamma = results.x\n",
    "new_err = err_vec(c, R, rf, gmm_beta, gmm_gamma)\n",
    "w_new = (1 / len(R[1:])) * new_err.reshape(len(new_err),1) @ new_err.reshape(1, len(new_err))\n",
    "gmm_args = (c, R, rf, w_new)\n",
    "results = opt.minimize(criterion,\n",
    "                       params_init, \n",
    "                       args=(gmm_args),\n",
    "                       tol=1e-14, \n",
    "                       method='L-BFGS-B', \n",
    "                       bounds=((1e-5, 1-1e-5), (1e-5, None)))\n",
    "results.x"
   ]
  },
  {
   "cell_type": "markdown",
   "metadata": {},
   "source": [
    "Problem 2"
   ]
  },
  {
   "cell_type": "code",
   "execution_count": 13,
   "metadata": {},
   "outputs": [
    {
     "name": "stdout",
     "output_type": "stream",
     "text": [
      "Done. Saved 0 bytes.\n",
      "Done. Saved 0 bytes.\n",
      "Done. Saved 0 bytes.\n",
      "Done. Saved 0 bytes.\n",
      "Done. Saved 0 bytes.\n"
     ]
    }
   ],
   "source": [
    "files = [\"AAPL\", \"C\", \"GBX\", \"SPY\", \"THO\"]\n",
    "for file in files:\n",
    "    original = file \n",
    "    destination = file\n",
    "    content = ''\n",
    "    outsize = 0\n",
    "    with open(original, 'rb') as infile:\n",
    "        content = infile.read()\n",
    "    with open(destination, 'wb') as output:\n",
    "        for line in content.splitlines():\n",
    "            outsize += len(line) + 1\n",
    "            output.write(line + str.encode('\\n'))\n",
    "    print(\"Done. Saved %s bytes.\" % (len(content)-outsize))"
   ]
  },
  {
   "cell_type": "code",
   "execution_count": 14,
   "metadata": {},
   "outputs": [],
   "source": [
    "import pickle\n",
    "pickle_AAPL = open('AAPL', 'rb')\n",
    "AAPL = pickle.load(pickle_AAPL)\n",
    "\n",
    "pickle_C = open('C', 'rb')\n",
    "C = pickle.load(pickle_C)\n",
    "\n",
    "pickle_GBX = open('GBX', 'rb')\n",
    "GBX = pickle.load(pickle_GBX)\n",
    "\n",
    "pickle_SPY = open('SPY', 'rb')\n",
    "SPY = pickle.load(pickle_SPY)\n",
    "\n",
    "pickle_THO = open('THO', 'rb')\n",
    "THO = pickle.load(pickle_THO)"
   ]
  },
  {
   "cell_type": "code",
   "execution_count": 15,
   "metadata": {},
   "outputs": [],
   "source": [
    "class OrderBook:\n",
    "    def __init__(self, data, time, bounds):\n",
    "        self.data = data\n",
    "        self.time = time\n",
    "        self.lb, self.ub = bounds\n",
    "        self.gamma, self.beta = self.regress()\n",
    "    \n",
    "    def change_bounds(self, bounds):\n",
    "        self.lb, self.ub = bounds\n",
    "        \n",
    "    def regress(self):\n",
    "        new_data = self.data[(self.data['price'] > self.lb) & (self.data['price'] < self.ub)]\n",
    "        X = new_data[[\"price\"]]\n",
    "        y = new_data[\"cum_qty\"]\n",
    "        lm = linear_model.LinearRegression()\n",
    "        model = lm.fit(X,y)\n",
    "        predictions = lm.predict(X)\n",
    "        beta = lm.coef_[0]\n",
    "        gamma = lm.intercept_\n",
    "        if abs(beta) == float(\"inf\"):\n",
    "            beta = 4000\n",
    "        return (gamma, beta)\n",
    "    \n",
    "    def plot(self):\n",
    "        plt.scatter(self.data['price'], self.data['cum_qty'], color='b')\n",
    "        xvals = np.linspace(self.lb, self.ub, 1000)\n",
    "        yvals = xvals * self.beta + self.gamma\n",
    "        l = 'x * ' + str(self.beta) + ' + ' + str(self.gamma) + ' = y'\n",
    "        plt.plot(xvals, yvals, color='r', label=l)\n",
    "        if (abs(self.lb)+abs(self.ub)) < np.inf:\n",
    "            plt.xlim((self.lb, self.ub)) \n",
    "        plt.show()\n",
    "        \n",
    "    def get_p0(self):\n",
    "        pos = self.data[self.data['cum_qty']>0].first_valid_index()\n",
    "        neg = self.data[self.data['cum_qty']<0].last_valid_index()\n",
    "        p1 = self.data.iloc[neg]['price']\n",
    "        p2 = self.data.iloc[pos]['price']\n",
    "        q1 = abs(self.data.iloc[neg]['cum_qty'])\n",
    "        q2 = self.data.iloc[pos]['cum_qty']\n",
    "        p0 = (p2 * q1 + p1 * q2) / (q1 + q2)\n",
    "        if np.isnan(p0) or abs(p0) == float(\"inf\"):\n",
    "            return -self.gamma/self.beta\n",
    "        return p0\n",
    "\n",
    "def clean_book(book):\n",
    "    clean_lst_b = []\n",
    "    clean_lst_s = []\n",
    "    for price, info in book.items():\n",
    "        transaction = info[1]\n",
    "        if transaction == 'B':\n",
    "            quantity = -info[0]\n",
    "            clean_lst_b.append([price, quantity])\n",
    "        elif transaction == 'S':\n",
    "            quantity = info[0]\n",
    "            clean_lst_s.append([price, quantity])\n",
    "    clean_df_b = clean_book2(clean_lst_b, 'B')\n",
    "    clean_df_s = clean_book2(clean_lst_s, 'S')\n",
    "    clean_df = clean_df_b.append(clean_df_s)\n",
    "    clean_df.drop(columns=['quantity'], inplace=True)\n",
    "    return clean_df\n",
    "\n",
    "def clean_book2(data, kind):\n",
    "    data = pd.DataFrame(data)\n",
    "    data.columns = ['price', 'quantity']\n",
    "    if kind == 'S':\n",
    "        data.sort_values(\"price\", inplace=True)\n",
    "    elif kind == 'B':\n",
    "        data.sort_values(\"price\", inplace=True, ascending=False)\n",
    "    data['cum_qty'] = data['quantity'].cumsum()\n",
    "    return data"
   ]
  },
  {
   "cell_type": "code",
   "execution_count": 16,
   "metadata": {},
   "outputs": [],
   "source": [
    "def make_class(data, bounds):\n",
    "    order_books_lst = []\n",
    "    for order in data:\n",
    "        time = order[0]\n",
    "        data = clean_book(order[1])\n",
    "        order_books_lst.append(OrderBook(data, time, bounds))\n",
    "    return order_books_lst\n",
    "\n",
    "bounds = (-np.inf, np.inf)\n",
    "AAPL_orders = make_class([AAPL[0]], bounds)"
   ]
  },
  {
   "cell_type": "code",
   "execution_count": 17,
   "metadata": {},
   "outputs": [
    {
     "name": "stderr",
     "output_type": "stream",
     "text": [
      "C:\\Users\\admin\\Anaconda3\\lib\\site-packages\\numpy\\core\\function_base.py:133: RuntimeWarning: invalid value encountered in multiply\n",
      "  y *= step\n",
      "C:\\Users\\admin\\Anaconda3\\lib\\site-packages\\numpy\\core\\function_base.py:142: RuntimeWarning: invalid value encountered in add\n",
      "  y += start\n"
     ]
    },
    {
     "data": {
      "image/png": "[encoded data removed]",
      "text/plain": [
       "<Figure size 432x288 with 1 Axes>"
      ]
     },
     "metadata": {
      "needs_background": "light"
     },
     "output_type": "display_data"
    }
   ],
   "source": [
    "# Plotting an orderbook\n",
    "AAPL_orders[0].plot()"
   ]
  },
  {
   "cell_type": "code",
   "execution_count": 18,
   "metadata": {},
   "outputs": [
    {
     "data": {
      "image/png": "[encoded data removed]",
      "text/plain": [
       "<Figure size 432x288 with 1 Axes>"
      ]
     },
     "metadata": {
      "needs_background": "light"
     },
     "output_type": "display_data"
    }
   ],
   "source": [
    "AAPL_orders[0].change_bounds((100,300))\n",
    "AAPL_orders[0].plot()"
   ]
  },
  {
   "cell_type": "markdown",
   "metadata": {},
   "source": [
    "Clearly the linear part of the curve is between 135 and 165, this is where the model would fit well. So the regression should be done on this data (similarly boundaries are found for all tickers)."
   ]
  },
  {
   "cell_type": "code",
   "execution_count": 19,
   "metadata": {},
   "outputs": [],
   "source": [
    "AAPL_bounds = (140, 160)\n",
    "AAPL_orders = make_class(AAPL, AAPL_bounds)\n",
    "C_bounds = (66, 69)\n",
    "C_orders = make_class(C, C_bounds)\n",
    "GBX_bounds = (42.5, 45)\n",
    "GBX_orders = make_class(GBX, GBX_bounds)\n",
    "SPY_bounds = (241, 242.5)\n",
    "SPY_orders = make_class(SPY, SPY_bounds)\n",
    "THO_bounds = (101,104)\n",
    "THO_orders = make_class(THO, THO_bounds)"
   ]
  },
  {
   "cell_type": "code",
   "execution_count": 20,
   "metadata": {},
   "outputs": [],
   "source": [
    "# Problem 3.2\n",
    "AAPL_beta = np.array([[order.time, order.beta]  for order in AAPL_orders])\n",
    "C_beta = np.array([[order.time, order.beta]  for order in C_orders])\n",
    "GBX_beta = np.array([[order.time, order.beta]  for order in GBX_orders])\n",
    "SPY_beta = np.array([[order.time, order.beta]  for order in SPY_orders])\n",
    "THO_beta = np.array([[order.time, order.beta]  for order in THO_orders])"
   ]
  },
  {
   "cell_type": "code",
   "execution_count": 21,
   "metadata": {},
   "outputs": [
    {
     "data": {
      "image/png": "[encoded data removed]",
      "text/plain": [
       "<Figure size 432x288 with 1 Axes>"
      ]
     },
     "metadata": {
      "needs_background": "light"
     },
     "output_type": "display_data"
    }
   ],
   "source": [
    "plt.plot(AAPL_beta[:,0], AAPL_beta[:,1], label='AAPL')\n",
    "plt.plot(C_beta[:,0], C_beta[:,1], label='C')\n",
    "plt.plot(GBX_beta[:,0], GBX_beta[:,1], label='GBX')\n",
    "plt.plot(SPY_beta[:,0], SPY_beta[:,1], label='SPY')\n",
    "plt.plot(THO_beta[:,0], THO_beta[:,1], label='THO')\n",
    "plt.title('Estimated values of beta through the day')\n",
    "plt.xlabel('Time Stamp')\n",
    "plt.ylabel('Beta')\n",
    "plt.legend()\n",
    "plt.show()"
   ]
  },
  {
   "cell_type": "code",
   "execution_count": 22,
   "metadata": {},
   "outputs": [
    {
     "name": "stderr",
     "output_type": "stream",
     "text": [
      "C:\\Users\\admin\\Anaconda3\\lib\\site-packages\\ipykernel_launcher.py:41: RuntimeWarning: invalid value encountered in double_scalars\n",
      "C:\\Users\\admin\\Anaconda3\\lib\\site-packages\\ipykernel_launcher.py:41: RuntimeWarning: divide by zero encountered in double_scalars\n"
     ]
    }
   ],
   "source": [
    "p0_reg_AAPL = np.array([[order.time, -order.gamma / order.beta]  for order in AAPL_orders])\n",
    "p0_act_AAPL = np.array([[order.time, order.get_p0()]  for order in AAPL_orders])\n",
    "\n",
    "p0_reg_C = np.array([[order.time, -order.gamma / order.beta]  for order in C_orders])\n",
    "p0_act_C = np.array([[order.time, order.get_p0()]  for order in C_orders])\n",
    "\n",
    "p0_reg_GBX = np.array([[order.time, -order.gamma / order.beta]  for order in GBX_orders])\n",
    "p0_act_GBX = np.array([[order.time, order.get_p0()]  for order in GBX_orders])\n",
    "\n",
    "p0_reg_SPY = np.array([[order.time, -order.gamma / order.beta]  for order in SPY_orders])\n",
    "p0_act_SPY = np.array([[order.time, order.get_p0()]  for order in SPY_orders])\n",
    "\n",
    "p0_reg_THO = np.array([[order.time, -order.gamma / order.beta]  for order in THO_orders])\n",
    "p0_act_THO = np.array([[order.time, order.get_p0()]  for order in THO_orders])"
   ]
  },
  {
   "cell_type": "code",
   "execution_count": 23,
   "metadata": {},
   "outputs": [
    {
     "name": "stdout",
     "output_type": "stream",
     "text": [
      "% RMSE Error for AAPL, C, GBX, SPY & THO are:\n",
      "0.0007478968298106637\n",
      "5.658997528123259e-05\n",
      "0.07113079149876372\n",
      "0.00015476349872895075\n",
      "0.005437301212083172\n"
     ]
    }
   ],
   "source": [
    "err_AAPL = (sum(((p0_reg_AAPL[:,1] - p0_act_AAPL[:,1]) / p0_act_AAPL[:,1]) ** 2)) / len(p0_act_AAPL[:,1])\n",
    "err_C = (sum(((p0_reg_C[:,1] - p0_act_C[:,1]) / p0_act_C[:,1]) ** 2)) / len(p0_act_C[:,1])\n",
    "err_GBX = (sum(((p0_reg_GBX[:,1] - p0_act_GBX[:,1]) / p0_act_GBX[:,1]) ** 2)) / len(p0_act_GBX[:,1])\n",
    "err_SPY = (sum(((p0_reg_SPY[:,1] - p0_act_SPY[:,1]) / p0_act_SPY[:,1]) ** 2)) / len(p0_act_SPY[:,1])\n",
    "err_THO = (sum(((p0_reg_THO[:,1] - p0_act_THO[:,1]) / p0_act_THO[:,1]) ** 2)) / len(p0_act_THO[:,1])\n",
    "print('% RMSE Error for AAPL, C, GBX, SPY & THO are:')\n",
    "print(err_AAPL)\n",
    "print(err_C)\n",
    "print(err_GBX)\n",
    "print(err_SPY)\n",
    "print(err_THO)"
   ]
  },
  {
   "cell_type": "markdown",
   "metadata": {},
   "source": [
    "The error is small, indicating that the linear approximation is fairly representative of the linear region of the order book, hence this method is valid"
   ]
  },
  {
   "cell_type": "code",
   "execution_count": 24,
   "metadata": {},
   "outputs": [
    {
     "data": {
      "text/plain": [
       "Text(0, 0.5, 'p0')"
      ]
     },
     "execution_count": 24,
     "metadata": {},
     "output_type": "execute_result"
    },
    {
     "data": {
      "image/png": "[encoded data removed]",
      "text/plain": [
       "<Figure size 432x288 with 1 Axes>"
      ]
     },
     "metadata": {
      "needs_background": "light"
     },
     "output_type": "display_data"
    }
   ],
   "source": [
    "plt.plot(p0_reg_AAPL[:, 0], p0_reg_AAPL[:, 1], label='AAPL')\n",
    "plt.plot(p0_reg_C[:, 0], p0_reg_C[:, 1], label='C')\n",
    "plt.plot(p0_reg_GBX[:, 0], p0_reg_GBX[:, 1], label='GBX')\n",
    "plt.plot(p0_reg_SPY[:, 0], p0_reg_SPY[:, 1], label='SPY')\n",
    "plt.plot(p0_reg_THO[:, 0], p0_reg_THO[:, 1], label='THO')\n",
    "plt.legend()\n",
    "plt.xlabel('Time Stamp')\n",
    "plt.ylabel('p0')"
   ]
  },
  {
   "cell_type": "code",
   "execution_count": 25,
   "metadata": {},
   "outputs": [
    {
     "data": {
      "text/plain": [
       "Text(0, 0.5, 'p0')"
      ]
     },
     "execution_count": 25,
     "metadata": {},
     "output_type": "execute_result"
    },
    {
     "data": {
      "image/png": "[encoded data removed]",
      "text/plain": [
       "<Figure size 432x288 with 1 Axes>"
      ]
     },
     "metadata": {
      "needs_background": "light"
     },
     "output_type": "display_data"
    }
   ],
   "source": [
    "plt.plot(p0_act_AAPL[:, 0], p0_act_AAPL[:, 1], label='AAPL')\n",
    "plt.plot(p0_act_C[:, 0], p0_act_C[:, 1], label='C')\n",
    "plt.plot(p0_act_GBX[:, 0], p0_act_GBX[:, 1], label='GBX')\n",
    "plt.plot(p0_act_SPY[:, 0], p0_act_SPY[:, 1], label='SPY')\n",
    "plt.plot(p0_act_THO[:, 0], p0_act_THO[:, 1], label='THO')\n",
    "plt.legend()\n",
    "plt.xlabel('Time Stamp')\n",
    "plt.ylabel('p0')"
   ]
  },
  {
   "cell_type": "code",
   "execution_count": null,
   "metadata": {},
   "outputs": [],
   "source": []
  }
 ],
 "metadata": {
  "kernelspec": {
   "display_name": "Python 3",
   "language": "python",
   "name": "python3"
  },
  "language_info": {
   "codemirror_mode": {
    "name": "ipython",
    "version": 3
   },
   "file_extension": ".py",
   "mimetype": "text/x-python",
   "name": "python",
   "nbconvert_exporter": "python",
   "pygments_lexer": "ipython3",
   "version": "3.7.1"
  }
 },
 "nbformat": 4,
 "nbformat_minor": 2
}
